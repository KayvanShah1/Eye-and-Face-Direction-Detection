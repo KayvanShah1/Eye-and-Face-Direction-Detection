{
 "cells": [
  {
   "cell_type": "code",
   "execution_count": 1,
   "metadata": {},
   "outputs": [],
   "source": [
    "%load_ext autotime\n",
    "%matplotlib inline"
   ]
  },
  {
   "cell_type": "code",
   "execution_count": 2,
   "metadata": {},
   "outputs": [
    {
     "name": "stdout",
     "output_type": "stream",
     "text": [
      "time: 185 ms\n"
     ]
    }
   ],
   "source": [
    "# importing the required depencies\n",
    "import cv2 \n",
    "import dlib\n",
    "import os\n",
    "import matplotlib.pyplot as plt\n",
    "import numpy as np"
   ]
  },
  {
   "cell_type": "code",
   "execution_count": 6,
   "metadata": {},
   "outputs": [
    {
     "name": "stdout",
     "output_type": "stream",
     "text": [
      "time: 2min\n"
     ]
    }
   ],
   "source": [
    "# Path to cascade and predictor file\n",
    "cascPath = r'C:/My Projects/eye detection/haarcascade_xml_files/haarcascades/haarcascade_frontalface_default.xml'  \n",
    "PREDICTOR_PATH = \"C:/My Projects/eye_detect/model_data/shape_predictor_68_face_landmarks.dat\" \n",
    "\n",
    "# Initializing the Predictor\n",
    "predictor = dlib.shape_predictor(PREDICTOR_PATH)\n",
    "\n",
    "# extracting only 5 facial landmarks\n",
    "JAWLINE_POINTS1 = [8] \n",
    "NOSE_POINTS1 = [27,33] \n",
    "RIGHT_EYE_POINTS1 = [36]  \n",
    "LEFT_EYE_POINTS1 = [45]\n",
    "\n",
    "vs = cv2.VideoCapture(0)\n",
    "while 1:\n",
    "    ret,frame = vs.read()\n",
    "    frame = cv2.flip(frame,1)\n",
    "    gray = cv2.cvtColor(frame, cv2.COLOR_BGR2GRAY)\n",
    "    \n",
    "    faceCascade = cv2.CascadeClassifier(cascPath)\n",
    "    faces = faceCascade.detectMultiScale(frame, scaleFactor=1.05, minNeighbors=5, \n",
    "                                         minSize=(150, 150), flags=cv2.CASCADE_SCALE_IMAGE)  \n",
    "\n",
    "    if faces is not None:\n",
    "        for (x, y, w, h) in faces:    \n",
    "\n",
    "            # Converting the OpenCV rectangle coordinates to Dlib rectangle  \n",
    "            dlib_rect = dlib.rectangle(int(x), int(y), int(x + w), int(y + h)) \n",
    "            \n",
    "            # Getting the coordinates of 5 facial landmarks\n",
    "            landmarks = np.matrix([[p.x, p.y] for p in predictor(frame, dlib_rect).parts()])  \n",
    "            landmarks_display = landmarks[RIGHT_EYE_POINTS1 + LEFT_EYE_POINTS1 + JAWLINE_POINTS1 + NOSE_POINTS1]  \n",
    "            \n",
    "            RIGHT_EYE_POINTS1_x = landmarks_display[0][0,0]\n",
    "            RIGHT_EYE_POINTS1_y = landmarks_display[0][0,1]\n",
    "            LEFT_EYE_POINTS1_x = landmarks_display[1][0,0]\n",
    "            LEFT_EYE_POINTS1_y = landmarks_display[1][0,1]\n",
    "            JAWLINE_POINTS1_x = landmarks_display[2][0,0]\n",
    "            JAWLINE_POINTS1_y = landmarks_display[2][0,1]\n",
    "            NOSE_POINTS1_up_x = landmarks_display[3][0,0]\n",
    "            NOSE_POINTS1_up_y = landmarks_display[3][0,1]\n",
    "            NOSE_POINTS2_down_x = landmarks_display[4][0,0]\n",
    "            NOSE_POINTS2_down_y = landmarks_display[4][0,1]\n",
    "            \n",
    "            # Calculating the distances\n",
    "            right_mid = np.abs(RIGHT_EYE_POINTS1_x - NOSE_POINTS1_up_x)\n",
    "            left_mid = np.abs(LEFT_EYE_POINTS1_x - NOSE_POINTS1_up_x)\n",
    "            chin_nose = np.abs(JAWLINE_POINTS1_y- NOSE_POINTS2_down_y)\n",
    "            nose_mid = np.abs(NOSE_POINTS2_down_y - NOSE_POINTS1_up_y)\n",
    "            \n",
    "            # drawing circles at coordinates of the facial landmarks\n",
    "            for idx, point in enumerate(landmarks_display):  \n",
    "                pos = (point[0, 0], point[0, 1])  \n",
    "                cv2.circle(frame, pos, 2, color=(255, 255, 255), thickness=-1)\n",
    "                Y = y - 10 if y - 10 > 10 else y + 10\n",
    "                \n",
    "                # finding the direction at which face is looking by threshold value\n",
    "                direction = []\n",
    "                if np.abs(right_mid - left_mid)<=5:\n",
    "                    cv2.putText(frame, '', (x, Y), cv2.FONT_HERSHEY_SIMPLEX, 0.45, (255, 255, 255), 2)\n",
    "                    direction.append('F')\n",
    "                else:\n",
    "                    if (right_mid > left_mid):\n",
    "                        cv2.putText(frame, 'Right', (x, Y), cv2.FONT_HERSHEY_SIMPLEX, 0.45, (255, 255, 255), 2)\n",
    "                        direction.append('R')\n",
    "                    else:\n",
    "                        cv2.putText(frame, 'Left', (x, Y), cv2.FONT_HERSHEY_SIMPLEX, 0.45, (255, 255, 255), 2)\n",
    "                        direction.append('L')\n",
    "                        \n",
    "                if np.abs(chin_nose-20 - nose_mid)<=9:\n",
    "                    pass\n",
    "                else:\n",
    "                    if np.abs(chin_nose-20 > nose_mid):\n",
    "                        cv2.putText(frame, 'Up', (x, Y+15), cv2.FONT_HERSHEY_SIMPLEX, 0.45, (255, 255, 255), 2)\n",
    "                        direction.append('U')\n",
    "                    else:\n",
    "                        cv2.putText(frame, 'Down', (x, Y+15), cv2.FONT_HERSHEY_SIMPLEX, 0.45, (255, 255, 255), 2)\n",
    "                        direction.append('D')\n",
    "                        \n",
    "    cv2.imshow(\"Face Direction Finder\", frame)\n",
    "    \n",
    "    # Press Q to quit the camera window\n",
    "    if cv2.waitKey(1) & 0xFF == ord('q'):\n",
    "        break\n",
    "    \n",
    "vs.release()\n",
    "cv2.destroyAllWindows()"
   ]
  },
  {
   "cell_type": "code",
   "execution_count": 25,
   "metadata": {},
   "outputs": [
    {
     "name": "stdout",
     "output_type": "stream",
     "text": [
      "Found 1 faces!\n"
     ]
    },
    {
     "data": {
      "text/plain": [
       "<matplotlib.image.AxesImage at 0x1c0ff9e3ac8>"
      ]
     },
     "execution_count": 25,
     "metadata": {},
     "output_type": "execute_result"
    },
    {
     "data": {
      "image/png": "[encoded data removed]",
      "text/plain": [
       "<Figure size 432x288 with 1 Axes>"
      ]
     },
     "metadata": {
      "needs_background": "light"
     },
     "output_type": "display_data"
    },
    {
     "name": "stdout",
     "output_type": "stream",
     "text": [
      "time: 3.41 s\n"
     ]
    }
   ],
   "source": [
    "# test on image\n",
    "\n",
    "imagePath = \"C:/Kayvan/eye detection/sample_image.jpg\"  \n",
    "cascPath = r'C:/Kayvan/eye detection/haarcascade_xml_files/haarcascades/haarcascade_frontalface_default.xml'  \n",
    "\n",
    "PREDICTOR_PATH = \"C:/Kayvan/eye_detect/model_data/shape_predictor_68_face_landmarks.dat\"  \n",
    "\n",
    "JAWLINE_POINTS = list(range(0, 17))  \n",
    "RIGHT_EYEBROW_POINTS = list(range(17, 22))  \n",
    "LEFT_EYEBROW_POINTS = list(range(22, 27))  \n",
    "NOSE_POINTS = list(range(27, 36))  \n",
    "RIGHT_EYE_POINTS = list(range(36, 42))  \n",
    "LEFT_EYE_POINTS = list(range(42, 48))  \n",
    "MOUTH_OUTLINE_POINTS = list(range(48, 61))  \n",
    "MOUTH_INNER_POINTS = list(range(61, 68)) \n",
    "\n",
    "JAWLINE_POINTS1 = [8] \n",
    "NOSE_POINTS1 = [27,33] \n",
    "RIGHT_EYE_POINTS1 = [36]  \n",
    "LEFT_EYE_POINTS1 = [45]  \n",
    "   \n",
    "# Create the haar cascade  \n",
    "faceCascade = cv2.CascadeClassifier(cascPath)  \n",
    "\n",
    "predictor = dlib.shape_predictor(PREDICTOR_PATH)  \n",
    "\n",
    "# Read the image  \n",
    "image = cv2.imread(imagePath)  \n",
    "gray = cv2.cvtColor(image, cv2.COLOR_BGR2GRAY)  \n",
    "\n",
    "# Detect faces in the image  \n",
    "faces = faceCascade.detectMultiScale(  \n",
    "    gray,  \n",
    "    scaleFactor=1.05,  \n",
    "    minNeighbors=1,  \n",
    "    minSize=(100, 100),  \n",
    "    flags=cv2.CASCADE_SCALE_IMAGE  \n",
    ")  \n",
    "   \n",
    "print(\"Found {0} faces!\".format(len(faces)))  \n",
    "\n",
    "# Draw a rectangle around the faces  \n",
    "for (x, y, w, h) in faces:  \n",
    "    cv2.rectangle(image, (x, y), (x + w, y + h), (0, 255, 0), 2)  \n",
    "\n",
    "    # Converting the OpenCV rectangle coordinates to Dlib rectangle  \n",
    "    dlib_rect = dlib.rectangle(int(x), int(y), int(x + w), int(y + h))  \n",
    "\n",
    "    landmarks2 = np.matrix([[p.x, p.y]  \n",
    "               for p in predictor(image, dlib_rect).parts()])  \n",
    "\n",
    "    landmarks_display2 = landmarks2[RIGHT_EYE_POINTS1 + LEFT_EYE_POINTS1 + JAWLINE_POINTS1 + NOSE_POINTS1]  \n",
    "\n",
    "    for idx, point in enumerate(landmarks_display2):  \n",
    "        pos = (point[0, 0], point[0, 1])  \n",
    "        cv2.circle(image, pos, 2, color=(255, 255, 255), thickness=2)  \n",
    "   \n",
    "plt.imshow(image)  "
   ]
  },
  {
   "cell_type": "code",
   "execution_count": 4,
   "metadata": {},
   "outputs": [
    {
     "name": "stdout",
     "output_type": "stream",
     "text": [
      "time: 98.7 ms\n"
     ]
    }
   ],
   "source": [
    "prototxt_path = os.path.join('C:/My Projects/eye_detect/model_data/deploy.prototxt')\n",
    "caffemodel_path = os.path.join('C:/My Projects/eye_detect/model_data/weights.caffemodel')\n",
    "\n",
    "model = cv2.dnn.readNetFromCaffe(prototxt_path,caffemodel_path)"
   ]
  },
  {
   "cell_type": "code",
   "execution_count": 6,
   "metadata": {},
   "outputs": [
    {
     "name": "stdout",
     "output_type": "stream",
     "text": [
      "time: 2.72 s\n"
     ]
    }
   ],
   "source": [
    "predictor_path = 'C:/My Projects/eye_detect/model_data/shape_predictor_68_face_landmarks.dat'\n",
    "predictor = dlib.shape_predictor(predictor_path)"
   ]
  },
  {
   "cell_type": "code",
   "execution_count": 14,
   "metadata": {},
   "outputs": [
    {
     "name": "stdout",
     "output_type": "stream",
     "text": [
      "time: 19.3 s\n"
     ]
    }
   ],
   "source": [
    "# camera test approach code\n",
    "cap = cv2.VideoCapture(0)\n",
    "cv2.namedWindow('FACE TRACKER')\n",
    "while 1:\n",
    "    ret,vid = cap.read()\n",
    "    vid = cv2.flip(vid,1)\n",
    "    \n",
    "    gray_vid = cv2.cvtColor(vid,cv2.COLOR_BGR2GRAY)\n",
    "    gray_blur = cv2.bilateralFilter(gray_vid,9,75,75)\n",
    "    gray_blur = cv2.adaptiveThreshold(gray_blur,255,cv2.ADAPTIVE_THRESH_GAUSSIAN_C,cv2.THRESH_BINARY,13,3)\n",
    "    \n",
    "    rects = detector(gray_blur)    \n",
    "    \n",
    "    cv2.imshow('PUPIL TRACKER',gray_vid)\n",
    "        \n",
    "    if cv2.waitKey(1) & 0xFF == ord('q'):\n",
    "            break\n",
    "              \n",
    "cv2.destroyAllWindows()\n",
    "cap.release()"
   ]
  },
  {
   "cell_type": "code",
   "execution_count": 5,
   "metadata": {},
   "outputs": [
    {
     "name": "stdout",
     "output_type": "stream",
     "text": [
      "[8] [27, 33] [36] [45]\n",
      "time: 2 ms\n"
     ]
    }
   ],
   "source": [
    "# facial landmarks points\n",
    "JAWLINE_POINTS1 = [8] \n",
    "NOSE_POINTS1 = [27,33] \n",
    "RIGHT_EYE_POINTS1 = [36]  \n",
    "LEFT_EYE_POINTS1 = [45]  \n",
    "\n",
    "print(JAWLINE_POINTS1,NOSE_POINTS1,RIGHT_EYE_POINTS1,LEFT_EYE_POINTS1)"
   ]
  },
  {
   "cell_type": "code",
   "execution_count": 21,
   "metadata": {},
   "outputs": [
    {
     "name": "stdout",
     "output_type": "stream",
     "text": [
      "time: 17.7 s\n"
     ]
    }
   ],
   "source": [
    "# approach no.1\n",
    "\n",
    "# Start video capture\n",
    "vs = cv2.VideoCapture(0)\n",
    "\n",
    "# Display each video frame\n",
    "while True:\n",
    "    ret, frame = vs.read()\n",
    "    frame = cv2.flip(frame,1)\n",
    "    \n",
    "    (h, w) = frame.shape[:2]\n",
    "    blob = cv2.dnn.blobFromImage(cv2.resize(frame, (300, 300)), 1.0, (300, 300), (104.0, 177.0, 123.0))\n",
    "    \n",
    "    model.setInput(blob)\n",
    "    detections = model.forward()\n",
    "    \n",
    "    for i in range(0, detections.shape[2]):\n",
    "        box = detections[0, 0, i, 3:7] * np.array([w, h, w, h])\n",
    "        (startX, startY, endX, endY) = box.astype(\"int\")\n",
    "        confidence = detections[0, 0, i, 2]\n",
    "        \n",
    "        # If confidence > 0.5, show box around face\n",
    "        if (confidence > 0.95):\n",
    "            # text = \"{:.2f}%\".format(confidence * 100)\n",
    "            text = 'left'\n",
    "            y = startY - 10 if startY - 10 > 10 else startY + 10\n",
    "            cv2.rectangle(frame, (startX, startY), (endX, endY), (0, 0, 255), 1)\n",
    "            cv2.putText(frame, text, (startX, y), cv2.FONT_HERSHEY_SIMPLEX, 0.45, (255, 255, 255), 2)\n",
    "            \n",
    "        cv2.imshow(\"Frame\", frame)\n",
    "    \n",
    "    if cv2.waitKey(1) & 0xFF == ord('q'):\n",
    "        break\n",
    "\n",
    "vs.release()\n",
    "cv2.destroyAllWindows()"
   ]
  },
  {
   "cell_type": "code",
   "execution_count": 44,
   "metadata": {},
   "outputs": [
    {
     "ename": "ValueError",
     "evalue": "not enough values to unpack (expected 4, got 1)",
     "output_type": "error",
     "traceback": [
      "\u001b[1;31m---------------------------------------------------------------------------\u001b[0m",
      "\u001b[1;31mValueError\u001b[0m                                Traceback (most recent call last)",
      "\u001b[1;32m<ipython-input-44-7e0c5c3bc62f>\u001b[0m in \u001b[0;36m<module>\u001b[1;34m\u001b[0m\n\u001b[0;32m     40\u001b[0m             \u001b[0mcv2\u001b[0m\u001b[1;33m.\u001b[0m\u001b[0mputText\u001b[0m\u001b[1;33m(\u001b[0m\u001b[0mframe\u001b[0m\u001b[1;33m,\u001b[0m \u001b[0mtext\u001b[0m\u001b[1;33m,\u001b[0m \u001b[1;33m(\u001b[0m\u001b[0mstartX\u001b[0m\u001b[1;33m,\u001b[0m \u001b[0my\u001b[0m\u001b[1;33m)\u001b[0m\u001b[1;33m,\u001b[0m \u001b[0mcv2\u001b[0m\u001b[1;33m.\u001b[0m\u001b[0mFONT_HERSHEY_SIMPLEX\u001b[0m\u001b[1;33m,\u001b[0m \u001b[1;36m0.45\u001b[0m\u001b[1;33m,\u001b[0m \u001b[1;33m(\u001b[0m\u001b[1;36m255\u001b[0m\u001b[1;33m,\u001b[0m \u001b[1;36m255\u001b[0m\u001b[1;33m,\u001b[0m \u001b[1;36m255\u001b[0m\u001b[1;33m)\u001b[0m\u001b[1;33m,\u001b[0m \u001b[1;36m2\u001b[0m\u001b[1;33m)\u001b[0m\u001b[1;33m\u001b[0m\u001b[1;33m\u001b[0m\u001b[0m\n\u001b[0;32m     41\u001b[0m \u001b[1;33m\u001b[0m\u001b[0m\n\u001b[1;32m---> 42\u001b[1;33m             \u001b[1;32mfor\u001b[0m \u001b[0mx\u001b[0m\u001b[1;33m,\u001b[0m\u001b[0my\u001b[0m\u001b[1;33m,\u001b[0m\u001b[0mw\u001b[0m\u001b[1;33m,\u001b[0m\u001b[0mh\u001b[0m \u001b[1;32min\u001b[0m \u001b[0mdetections\u001b[0m\u001b[1;33m:\u001b[0m\u001b[1;33m\u001b[0m\u001b[1;33m\u001b[0m\u001b[0m\n\u001b[0m\u001b[0;32m     43\u001b[0m                 \u001b[0mlandmarks\u001b[0m \u001b[1;33m=\u001b[0m \u001b[0mnp\u001b[0m\u001b[1;33m.\u001b[0m\u001b[0mmatrix\u001b[0m\u001b[1;33m(\u001b[0m\u001b[1;33m[\u001b[0m\u001b[1;33m[\u001b[0m\u001b[0mp\u001b[0m\u001b[1;33m.\u001b[0m\u001b[0mx\u001b[0m\u001b[1;33m,\u001b[0m \u001b[0mp\u001b[0m\u001b[1;33m.\u001b[0m\u001b[0my\u001b[0m\u001b[1;33m]\u001b[0m \u001b[1;32mfor\u001b[0m \u001b[0mp\u001b[0m \u001b[1;32min\u001b[0m \u001b[0mpredictor\u001b[0m\u001b[1;33m(\u001b[0m\u001b[0mframe\u001b[0m\u001b[1;33m,\u001b[0m\u001b[0mdetections\u001b[0m\u001b[1;33m)\u001b[0m\u001b[1;33m.\u001b[0m\u001b[0mparts\u001b[0m\u001b[1;33m(\u001b[0m\u001b[1;33m)\u001b[0m\u001b[1;33m]\u001b[0m\u001b[1;33m)\u001b[0m\u001b[1;33m\u001b[0m\u001b[1;33m\u001b[0m\u001b[0m\n\u001b[0;32m     44\u001b[0m                 \u001b[0mlandmarks_display\u001b[0m \u001b[1;33m=\u001b[0m \u001b[0mlandmarks\u001b[0m\u001b[1;33m[\u001b[0m\u001b[0mRIGHT_EYE_POINTS1\u001b[0m \u001b[1;33m+\u001b[0m \u001b[0mNOSE_POINTS1\u001b[0m \u001b[1;33m+\u001b[0m \u001b[0mJAWLINE_POINTS1\u001b[0m \u001b[1;33m+\u001b[0m \u001b[0mLEFT_EYE_POINTS1\u001b[0m\u001b[1;33m]\u001b[0m\u001b[1;33m\u001b[0m\u001b[1;33m\u001b[0m\u001b[0m\n",
      "\u001b[1;31mValueError\u001b[0m: not enough values to unpack (expected 4, got 1)"
     ]
    },
    {
     "name": "stdout",
     "output_type": "stream",
     "text": [
      "time: 4.03 s\n"
     ]
    }
   ],
   "source": [
    "# approach no.2\n",
    "\n",
    "# Start video capture\n",
    "vs = cv2.VideoCapture(0)\n",
    "\n",
    "# Display each video frame\n",
    "while True:\n",
    "    ret, frame = vs.read()\n",
    "    frame = cv2.flip(frame,1)\n",
    "    \n",
    "    (h, w) = frame.shape[:2]\n",
    "    blob = cv2.dnn.blobFromImage(cv2.resize(frame, (300, 300)), 1.0, (300, 300), (104.0, 177.0, 123.0))\n",
    "    \n",
    "    model.setInput(blob)\n",
    "    detections = model.forward()\n",
    "    \n",
    "    for i in range(0, detections.shape[2]):\n",
    "        box = detections[0, 0, i, 3:7] * np.array([w, h, w, h])\n",
    "        (startX, startY, endX, endY) = box.astype(\"int\")\n",
    "        confidence = detections[0, 0, i, 2]\n",
    "        \n",
    "        x = startX\n",
    "        y = startY\n",
    "        w = endX - startX\n",
    "        h = endY - startY\n",
    "        \n",
    "#         dlib_rect = dlib.rectangle(int(startX), int(startY), int(endX), int(endY))\n",
    "#         (x,y,w,h) = cv2.boundingRect()\n",
    "#         roi_face = frame[startY:endY,startX:endX]\n",
    "        \n",
    "#         landmarks = np.matrix([[p.startX, p.startY] for p in predictor(frame,detections).parts()])  \n",
    "#         landmarks_display = landmarks[RIGHT_EYE_POINTS1 + NOSE_POINTS1 + JAWLINE_POINTS1 + LEFT_EYE_POINTS1]\n",
    "        \n",
    "        # If confidence > 0.5, show box around face\n",
    "        if (confidence > 0.95):\n",
    "            # text = \"{:.2f}%\".format(confidence * 100)\n",
    "            text = 'left'\n",
    "            y = startY - 10 if startY - 10 > 10 else startY + 10\n",
    "            cv2.rectangle(frame, (startX, startY), (endX, endY), (0, 0, 255), 1)\n",
    "            cv2.putText(frame, text, (startX, y), cv2.FONT_HERSHEY_SIMPLEX, 0.45, (255, 255, 255), 2)\n",
    "            \n",
    "            for x,y,w,h in detections:\n",
    "                landmarks = np.matrix([[p.x, p.y] for p in predictor(frame,detections).parts()])  \n",
    "                landmarks_display = landmarks[RIGHT_EYE_POINTS1 + NOSE_POINTS1 + JAWLINE_POINTS1 + LEFT_EYE_POINTS1]\n",
    "\n",
    "                for idx, point in enumerate(landmarks_display):  \n",
    "                    pos = (point[0, 0], point[0, 1])  \n",
    "                    cv2.circle(frame, pos, 2, color=(0, 255, 255), thickness=2) \n",
    "            \n",
    "        cv2.imshow(\"Frame\", frame)\n",
    "    \n",
    "    if cv2.waitKey(1) & 0xFF == ord('q'):\n",
    "        break\n",
    "\n",
    "vs.release()\n",
    "cv2.destroyAllWindows()"
   ]
  },
  {
   "cell_type": "code",
   "execution_count": 26,
   "metadata": {},
   "outputs": [
    {
     "name": "stdout",
     "output_type": "stream",
     "text": [
      "[[ 97 187]\n",
      " [222 184]\n",
      " [164 349]\n",
      " [160 182]\n",
      " [161 254]]\n",
      "164\n",
      "349\n",
      "Forward\n",
      "63 62 95 167\n",
      "time: 12 ms\n"
     ]
    }
   ],
   "source": [
    "# distance calculation\n",
    "\n",
    "print(landmarks_display2)\n",
    "print(landmarks_display2[2][0,0])\n",
    "print(landmarks_display2[2][0,1])\n",
    "\n",
    "RIGHT_EYE_POINTS1_x = landmarks_display2[0][0,0]\n",
    "RIGHT_EYE_POINTS1_y = landmarks_display2[0][0,1]\n",
    "\n",
    "LEFT_EYE_POINTS1_x = landmarks_display2[1][0,0]\n",
    "LEFT_EYE_POINTS1_y = landmarks_display2[1][0,1]\n",
    "\n",
    "JAWLINE_POINTS1_x = landmarks_display2[2][0,0]\n",
    "JAWLINE_POINTS1_y = landmarks_display2[2][0,1]\n",
    "\n",
    "NOSE_POINTS1_up_x = landmarks_display2[3][0,0]\n",
    "NOSE_POINTS1_up_y = landmarks_display2[3][0,1]\n",
    "\n",
    "NOSE_POINTS2_down_x = landmarks_display2[4][0,0]\n",
    "NOSE_POINTS2_down_y = landmarks_display2[4][0,1]\n",
    "\n",
    "# right_mid = np.sqrt((RIGHT_EYE_POINTS1_x - NOSE_POINTS1_up_x)^2 + (RIGHT_EYE_POINTS1_y - NOSE_POINTS1_up_y)^2)\n",
    "# left_mid = np.sqrt((LEFT_EYE_POINTS1_x - NOSE_POINTS1_up_x)^2 + (LEFT_EYE_POINTS1_y - NOSE_POINTS1_up_y)^2)\n",
    "# chin_nose = np.sqrt((JAWLINE_POINTS1_x - NOSE_POINTS2_down_x)^2 + (JAWLINE_POINTS1_y - NOSE_POINTS2_down_y)^2)\n",
    "# nose_mid = np.sqrt((JAWLINE_POINTS1_x - NOSE_POINTS1_up_x)^2 + (JAWLINE_POINTS1_y - NOSE_POINTS1_up_y)^2)\n",
    "\n",
    "right_mid = np.abs(RIGHT_EYE_POINTS1_x - NOSE_POINTS1_up_x)\n",
    "left_mid = np.abs(LEFT_EYE_POINTS1_x - NOSE_POINTS1_up_x)\n",
    "chin_nose = np.abs(JAWLINE_POINTS1_y- NOSE_POINTS2_down_y)\n",
    "nose_mid = np.abs(JAWLINE_POINTS1_y - NOSE_POINTS1_up_y)\n",
    "\n",
    "if np.abs(right_mid - left_mid)<=5:\n",
    "    print(\"Forward\")\n",
    "else:\n",
    "    if (right_mid > left_mid):\n",
    "        print('Right')\n",
    "    else:\n",
    "        print('Left')\n",
    "\n",
    "print(right_mid,left_mid,chin_nose,nose_mid)"
   ]
  },
  {
   "cell_type": "code",
   "execution_count": 12,
   "metadata": {},
   "outputs": [
    {
     "name": "stdout",
     "output_type": "stream",
     "text": [
      "76 130\n",
      "time: 2 ms\n"
     ]
    }
   ],
   "source": [
    "print(chin_nose,nose_mid)"
   ]
  },
  {
   "cell_type": "code",
   "execution_count": null,
   "metadata": {},
   "outputs": [],
   "source": [
    "# test case 1\n",
    "\n",
    "if np.abs(right_mid - left_mid<=5) and np.abs(-right_mid + left_mid<=5):\n",
    "    if right_mid > left_mid:\n",
    "        cv2.putText(frame, 'Right', (x, Y), cv2.FONT_HERSHEY_SIMPLEX, 0.45, (255, 255, 255), 2)\n",
    "    else:\n",
    "        cv2.putText(frame, 'Left', (x, Y), cv2.FONT_HERSHEY_SIMPLEX, 0.45, (255, 255, 255), 2)\n",
    "else:\n",
    "    cv2.putText(frame, 'Forward', (x, Y), cv2.FONT_HERSHEY_SIMPLEX, 0.45, (255, 255, 255), 2)\n",
    "    \n",
    "# test case 2    \n",
    "    \n",
    "if right_mid == left_mid:\n",
    "    cv2.putText(frame, 'Forward', (x, Y), cv2.FONT_HERSHEY_SIMPLEX, 0.45, (255, 255, 255), 2)\n",
    "else:\n",
    "    if right_mid > left_mid:\n",
    "        cv2.putText(frame, 'Right', (x, Y), cv2.FONT_HERSHEY_SIMPLEX, 0.45, (255, 255, 255), 2)\n",
    "    else:\n",
    "        cv2.putText(frame, 'Left', (x, Y), cv2.FONT_HERSHEY_SIMPLEX, 0.45, (255, 255, 255), 2)\n",
    "        \n",
    "# test case 3\n",
    "\n",
    "if np.abs(right_mid - left_mid < =5):\n",
    "    cv2.putText(frame, 'Forward', (x, Y), cv2.FONT_HERSHEY_SIMPLEX, 0.45, (255, 255, 255), 2)\n",
    "elif np.abs(right_mid - left_mid > =5) and (right_mid > left_mid):\n",
    "    cv2.putText(frame, 'Left', (x, Y), cv2.FONT_HERSHEY_SIMPLEX, 0.45, (255, 255, 255), 2)\n",
    "else\n",
    "    cv2.putText(frame, 'Right', (x, Y), cv2.FONT_HERSHEY_SIMPLEX, 0.45, (255, 255, 255), 2)\n",
    "    \n",
    "# test case 4\n",
    "if (right_mid > left_mid):\n",
    "    cv2.putText(frame, 'Right', (x, Y), cv2.FONT_HERSHEY_SIMPLEX, 0.45, (255, 255, 255), 2)\n",
    "else:\n",
    "    cv2.putText(frame, 'Left', (x, Y), cv2.FONT_HERSHEY_SIMPLEX, 0.45, (255, 255, 255), 2)\n",
    "    \n",
    "# test case 5\n",
    "if np.abs(right_mid - left_mid)<=5:\n",
    "    cv2.putText(frame, 'Forward', (x, Y), cv2.FONT_HERSHEY_SIMPLEX, 0.45, (255, 255, 255), 2)\n",
    "else:\n",
    "    if (right_mid > left_mid):\n",
    "        cv2.putText(frame, 'Right', (x, Y), cv2.FONT_HERSHEY_SIMPLEX, 0.45, (255, 255, 255), 2)\n",
    "    else:\n",
    "        cv2.putText(frame, 'Left', (x, Y), cv2.FONT_HERSHEY_SIMPLEX, 0.45, (255, 255, 255), 2)\n"
   ]
  },
  {
   "cell_type": "code",
   "execution_count": 2,
   "metadata": {},
   "outputs": [],
   "source": [
    "from time import sleep"
   ]
  },
  {
   "cell_type": "code",
   "execution_count": 14,
   "metadata": {},
   "outputs": [
    {
     "ename": "NameError",
     "evalue": "name 'direction' is not defined",
     "output_type": "error",
     "traceback": [
      "\u001b[1;31m---------------------------------------------------------------------------\u001b[0m",
      "\u001b[1;31mNameError\u001b[0m                                 Traceback (most recent call last)",
      "\u001b[1;32m<ipython-input-14-ff81df7a6da3>\u001b[0m in \u001b[0;36m<module>\u001b[1;34m\u001b[0m\n\u001b[1;32m----> 1\u001b[1;33m \u001b[0mord\u001b[0m\u001b[1;33m(\u001b[0m\u001b[0mdirection\u001b[0m\u001b[1;33m[\u001b[0m\u001b[1;36m0\u001b[0m\u001b[1;33m]\u001b[0m\u001b[1;33m)\u001b[0m\u001b[1;33m\u001b[0m\u001b[1;33m\u001b[0m\u001b[0m\n\u001b[0m",
      "\u001b[1;31mNameError\u001b[0m: name 'direction' is not defined"
     ]
    },
    {
     "name": "stdout",
     "output_type": "stream",
     "text": [
      "time: 56 ms\n"
     ]
    }
   ],
   "source": [
    "ord(direction[0])"
   ]
  },
  {
   "cell_type": "code",
   "execution_count": null,
   "metadata": {},
   "outputs": [],
   "source": []
  }
 ],
 "metadata": {
  "kernelspec": {
   "display_name": "Python 3",
   "language": "python",
   "name": "python3"
  },
  "language_info": {
   "codemirror_mode": {
    "name": "ipython",
    "version": 3
   },
   "file_extension": ".py",
   "mimetype": "text/x-python",
   "name": "python",
   "nbconvert_exporter": "python",
   "pygments_lexer": "ipython3",
   "version": "3.7.7"
  }
 },
 "nbformat": 4,
 "nbformat_minor": 2
}
